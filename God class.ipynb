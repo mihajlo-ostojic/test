{
 "cells": [
  {
   "cell_type": "markdown",
   "id": "2aef1d0e",
   "metadata": {},
   "source": [
    "<h2>Package import</h2>"
   ]
  },
  {
   "cell_type": "code",
   "execution_count": 108,
   "id": "1a579090",
   "metadata": {},
   "outputs": [],
   "source": [
    "import pandas as pd\n",
    "import pickle\n",
    "from sklearn.model_selection import train_test_split\n",
    "from sklearn.compose import ColumnTransformer\n",
    "from sklearn.preprocessing import StandardScaler\n",
    "from sklearn.metrics import classification_report\n",
    "from sklearn import ensemble, metrics\n",
    "from sklearn.ensemble import RandomForestClassifier,BaggingClassifier\n",
    "import numpy as np\n",
    "import matplotlib.pyplot as plt\n",
    "import seaborn as sns\n",
    "import pandas as pd\n",
    "from catboost import CatBoostClassifier\n",
    "import xgboost as xgb\n",
    "from sklearn.svm import LinearSVC"
   ]
  },
  {
   "cell_type": "code",
   "execution_count": 109,
   "id": "073e5639",
   "metadata": {},
   "outputs": [],
   "source": [
    "df = pd.read_excel('Dataset/DataSet_Large Class - Round 3.xlsx')"
   ]
  },
  {
   "cell_type": "code",
   "execution_count": 110,
   "id": "b20d9904",
   "metadata": {},
   "outputs": [],
   "source": [
    "cleanup_nums = {\"Final annotation\":     {1: 1, 2: 1, 3: 1, 4: 1, 5: 1, 0: 0}}\n",
    "\n",
    "df= df.replace(cleanup_nums)"
   ]
  },
  {
   "cell_type": "code",
   "execution_count": 111,
   "id": "71aef77e",
   "metadata": {},
   "outputs": [
    {
     "data": {
      "text/html": [
       "<div>\n",
       "<style scoped>\n",
       "    .dataframe tbody tr th:only-of-type {\n",
       "        vertical-align: middle;\n",
       "    }\n",
       "\n",
       "    .dataframe tbody tr th {\n",
       "        vertical-align: top;\n",
       "    }\n",
       "\n",
       "    .dataframe thead th {\n",
       "        text-align: right;\n",
       "    }\n",
       "</style>\n",
       "<table border=\"1\" class=\"dataframe\">\n",
       "  <thead>\n",
       "    <tr style=\"text-align: right;\">\n",
       "      <th></th>\n",
       "      <th>Link</th>\n",
       "      <th>Code Smell</th>\n",
       "      <th>Project Link</th>\n",
       "      <th>CLOC</th>\n",
       "      <th>CELOC</th>\n",
       "      <th>NMD</th>\n",
       "      <th>NAD</th>\n",
       "      <th>NMD_NAD</th>\n",
       "      <th>WMC</th>\n",
       "      <th>WMC_NO_CASE</th>\n",
       "      <th>...</th>\n",
       "      <th>RFC</th>\n",
       "      <th>CBO</th>\n",
       "      <th>DIT</th>\n",
       "      <th>DCC</th>\n",
       "      <th>ATFD_10</th>\n",
       "      <th>NIC</th>\n",
       "      <th>Final annotation</th>\n",
       "      <th>1</th>\n",
       "      <th>2</th>\n",
       "      <th>3</th>\n",
       "    </tr>\n",
       "    <tr>\n",
       "      <th>Code Snippet ID</th>\n",
       "      <th></th>\n",
       "      <th></th>\n",
       "      <th></th>\n",
       "      <th></th>\n",
       "      <th></th>\n",
       "      <th></th>\n",
       "      <th></th>\n",
       "      <th></th>\n",
       "      <th></th>\n",
       "      <th></th>\n",
       "      <th></th>\n",
       "      <th></th>\n",
       "      <th></th>\n",
       "      <th></th>\n",
       "      <th></th>\n",
       "      <th></th>\n",
       "      <th></th>\n",
       "      <th></th>\n",
       "      <th></th>\n",
       "      <th></th>\n",
       "      <th></th>\n",
       "    </tr>\n",
       "  </thead>\n",
       "  <tbody>\n",
       "    <tr>\n",
       "      <th>Aseprite.AsepriteAnimation</th>\n",
       "      <td>https://github.com/egordorichev/BurningKnight/...</td>\n",
       "      <td>Large Class</td>\n",
       "      <td>https://github.com/egordorichev/BurningKnight/...</td>\n",
       "      <td>6</td>\n",
       "      <td>0</td>\n",
       "      <td>0</td>\n",
       "      <td>4</td>\n",
       "      <td>4</td>\n",
       "      <td>0</td>\n",
       "      <td>0</td>\n",
       "      <td>...</td>\n",
       "      <td>0</td>\n",
       "      <td>0</td>\n",
       "      <td>0</td>\n",
       "      <td>0</td>\n",
       "      <td>0</td>\n",
       "      <td>0</td>\n",
       "      <td>0</td>\n",
       "      <td>0</td>\n",
       "      <td>0</td>\n",
       "      <td>0</td>\n",
       "    </tr>\n",
       "    <tr>\n",
       "      <th>Aseprite.AsepriteCel</th>\n",
       "      <td>https://github.com/egordorichev/BurningKnight/...</td>\n",
       "      <td>Large Class</td>\n",
       "      <td>https://github.com/egordorichev/BurningKnight/...</td>\n",
       "      <td>14</td>\n",
       "      <td>2</td>\n",
       "      <td>0</td>\n",
       "      <td>9</td>\n",
       "      <td>9</td>\n",
       "      <td>2</td>\n",
       "      <td>2</td>\n",
       "      <td>...</td>\n",
       "      <td>0</td>\n",
       "      <td>1</td>\n",
       "      <td>0</td>\n",
       "      <td>1</td>\n",
       "      <td>0</td>\n",
       "      <td>0</td>\n",
       "      <td>0</td>\n",
       "      <td>0</td>\n",
       "      <td>0</td>\n",
       "      <td>0</td>\n",
       "    </tr>\n",
       "    <tr>\n",
       "      <th>Aseprite.AsepriteFrame</th>\n",
       "      <td>https://github.com/egordorichev/BurningKnight/...</td>\n",
       "      <td>Large Class</td>\n",
       "      <td>https://github.com/egordorichev/BurningKnight/...</td>\n",
       "      <td>9</td>\n",
       "      <td>1</td>\n",
       "      <td>0</td>\n",
       "      <td>2</td>\n",
       "      <td>2</td>\n",
       "      <td>1</td>\n",
       "      <td>1</td>\n",
       "      <td>...</td>\n",
       "      <td>0</td>\n",
       "      <td>1</td>\n",
       "      <td>0</td>\n",
       "      <td>1</td>\n",
       "      <td>0</td>\n",
       "      <td>0</td>\n",
       "      <td>0</td>\n",
       "      <td>0</td>\n",
       "      <td>0</td>\n",
       "      <td>0</td>\n",
       "    </tr>\n",
       "    <tr>\n",
       "      <th>Aseprite.AsepriteImporter</th>\n",
       "      <td>https://github.com/egordorichev/BurningKnight/...</td>\n",
       "      <td>Large Class</td>\n",
       "      <td>https://github.com/egordorichev/BurningKnight/...</td>\n",
       "      <td>6</td>\n",
       "      <td>1</td>\n",
       "      <td>1</td>\n",
       "      <td>0</td>\n",
       "      <td>1</td>\n",
       "      <td>1</td>\n",
       "      <td>1</td>\n",
       "      <td>...</td>\n",
       "      <td>0</td>\n",
       "      <td>1</td>\n",
       "      <td>0</td>\n",
       "      <td>1</td>\n",
       "      <td>0</td>\n",
       "      <td>0</td>\n",
       "      <td>0</td>\n",
       "      <td>0</td>\n",
       "      <td>0</td>\n",
       "      <td>0</td>\n",
       "    </tr>\n",
       "    <tr>\n",
       "      <th>Aseprite.AsepriteLayer</th>\n",
       "      <td>https://github.com/egordorichev/BurningKnight/...</td>\n",
       "      <td>Large Class</td>\n",
       "      <td>https://github.com/egordorichev/BurningKnight/...</td>\n",
       "      <td>51</td>\n",
       "      <td>2</td>\n",
       "      <td>0</td>\n",
       "      <td>9</td>\n",
       "      <td>9</td>\n",
       "      <td>2</td>\n",
       "      <td>2</td>\n",
       "      <td>...</td>\n",
       "      <td>0</td>\n",
       "      <td>0</td>\n",
       "      <td>0</td>\n",
       "      <td>0</td>\n",
       "      <td>0</td>\n",
       "      <td>0</td>\n",
       "      <td>0</td>\n",
       "      <td>0</td>\n",
       "      <td>0</td>\n",
       "      <td>0</td>\n",
       "    </tr>\n",
       "    <tr>\n",
       "      <th>...</th>\n",
       "      <td>...</td>\n",
       "      <td>...</td>\n",
       "      <td>...</td>\n",
       "      <td>...</td>\n",
       "      <td>...</td>\n",
       "      <td>...</td>\n",
       "      <td>...</td>\n",
       "      <td>...</td>\n",
       "      <td>...</td>\n",
       "      <td>...</td>\n",
       "      <td>...</td>\n",
       "      <td>...</td>\n",
       "      <td>...</td>\n",
       "      <td>...</td>\n",
       "      <td>...</td>\n",
       "      <td>...</td>\n",
       "      <td>...</td>\n",
       "      <td>...</td>\n",
       "      <td>...</td>\n",
       "      <td>...</td>\n",
       "      <td>...</td>\n",
       "    </tr>\n",
       "    <tr>\n",
       "      <th>osu.Game.Rulesets.Osu.Edit.Blueprints.Sliders.Components.PathControlPointVisualiser</th>\n",
       "      <td>https://github.com/ppy/osu/tree/2cac373365309a...</td>\n",
       "      <td>Large Class</td>\n",
       "      <td>https://github.com/ppy/osu/tree/2cac373365309a...</td>\n",
       "      <td>216</td>\n",
       "      <td>118</td>\n",
       "      <td>9</td>\n",
       "      <td>7</td>\n",
       "      <td>16</td>\n",
       "      <td>37</td>\n",
       "      <td>36</td>\n",
       "      <td>...</td>\n",
       "      <td>2</td>\n",
       "      <td>5</td>\n",
       "      <td>0</td>\n",
       "      <td>5</td>\n",
       "      <td>2</td>\n",
       "      <td>1</td>\n",
       "      <td>1</td>\n",
       "      <td>/</td>\n",
       "      <td>1</td>\n",
       "      <td>1</td>\n",
       "    </tr>\n",
       "    <tr>\n",
       "      <th>osu.Game.Overlays.Comments.CommentEditor</th>\n",
       "      <td>https://github.com/ppy/osu/tree/2cac373365309a...</td>\n",
       "      <td>Large Class</td>\n",
       "      <td>https://github.com/ppy/osu/tree/2cac373365309a...</td>\n",
       "      <td>224</td>\n",
       "      <td>81</td>\n",
       "      <td>2</td>\n",
       "      <td>8</td>\n",
       "      <td>10</td>\n",
       "      <td>8</td>\n",
       "      <td>8</td>\n",
       "      <td>...</td>\n",
       "      <td>1</td>\n",
       "      <td>2</td>\n",
       "      <td>0</td>\n",
       "      <td>3</td>\n",
       "      <td>1</td>\n",
       "      <td>2</td>\n",
       "      <td>1</td>\n",
       "      <td>/</td>\n",
       "      <td>1</td>\n",
       "      <td>1</td>\n",
       "    </tr>\n",
       "    <tr>\n",
       "      <th>osu.Game.Screens.Select.FilterQueryParser</th>\n",
       "      <td>https://github.com/ppy/osu/tree/2cac373365309a...</td>\n",
       "      <td>Large Class</td>\n",
       "      <td>https://github.com/ppy/osu/tree/2cac373365309a...</td>\n",
       "      <td>201</td>\n",
       "      <td>132</td>\n",
       "      <td>10</td>\n",
       "      <td>1</td>\n",
       "      <td>11</td>\n",
       "      <td>55</td>\n",
       "      <td>20</td>\n",
       "      <td>...</td>\n",
       "      <td>7</td>\n",
       "      <td>0</td>\n",
       "      <td>0</td>\n",
       "      <td>0</td>\n",
       "      <td>10</td>\n",
       "      <td>0</td>\n",
       "      <td>1</td>\n",
       "      <td>/</td>\n",
       "      <td>1</td>\n",
       "      <td>1</td>\n",
       "    </tr>\n",
       "    <tr>\n",
       "      <th>osu.Game.Rulesets.Osu.Statistics.AccuracyHeatmap</th>\n",
       "      <td>https://github.com/ppy/osu/tree/2cac373365309a...</td>\n",
       "      <td>Large Class</td>\n",
       "      <td>https://github.com/ppy/osu/tree/2cac373365309a...</td>\n",
       "      <td>276</td>\n",
       "      <td>146</td>\n",
       "      <td>2</td>\n",
       "      <td>9</td>\n",
       "      <td>11</td>\n",
       "      <td>16</td>\n",
       "      <td>16</td>\n",
       "      <td>...</td>\n",
       "      <td>2</td>\n",
       "      <td>2</td>\n",
       "      <td>0</td>\n",
       "      <td>2</td>\n",
       "      <td>1</td>\n",
       "      <td>1</td>\n",
       "      <td>1</td>\n",
       "      <td>/</td>\n",
       "      <td>1</td>\n",
       "      <td>1</td>\n",
       "    </tr>\n",
       "    <tr>\n",
       "      <th>osu.Game.Overlays.NowPlayingOverlay</th>\n",
       "      <td>https://github.com/ppy/osu/tree/2cac373365309a...</td>\n",
       "      <td>Large Class</td>\n",
       "      <td>https://github.com/ppy/osu/tree/2cac373365309a...</td>\n",
       "      <td>399</td>\n",
       "      <td>201</td>\n",
       "      <td>9</td>\n",
       "      <td>20</td>\n",
       "      <td>29</td>\n",
       "      <td>26</td>\n",
       "      <td>25</td>\n",
       "      <td>...</td>\n",
       "      <td>8</td>\n",
       "      <td>4</td>\n",
       "      <td>1</td>\n",
       "      <td>7</td>\n",
       "      <td>4</td>\n",
       "      <td>4</td>\n",
       "      <td>1</td>\n",
       "      <td>/</td>\n",
       "      <td>2</td>\n",
       "      <td>2</td>\n",
       "    </tr>\n",
       "  </tbody>\n",
       "</table>\n",
       "<p>920 rows × 32 columns</p>\n",
       "</div>"
      ],
      "text/plain": [
       "                                                                                                 Link  \\\n",
       "Code Snippet ID                                                                                         \n",
       "Aseprite.AsepriteAnimation                          https://github.com/egordorichev/BurningKnight/...   \n",
       "Aseprite.AsepriteCel                                https://github.com/egordorichev/BurningKnight/...   \n",
       "Aseprite.AsepriteFrame                              https://github.com/egordorichev/BurningKnight/...   \n",
       "Aseprite.AsepriteImporter                           https://github.com/egordorichev/BurningKnight/...   \n",
       "Aseprite.AsepriteLayer                              https://github.com/egordorichev/BurningKnight/...   \n",
       "...                                                                                               ...   \n",
       "osu.Game.Rulesets.Osu.Edit.Blueprints.Sliders.C...  https://github.com/ppy/osu/tree/2cac373365309a...   \n",
       "osu.Game.Overlays.Comments.CommentEditor            https://github.com/ppy/osu/tree/2cac373365309a...   \n",
       "osu.Game.Screens.Select.FilterQueryParser           https://github.com/ppy/osu/tree/2cac373365309a...   \n",
       "osu.Game.Rulesets.Osu.Statistics.AccuracyHeatmap    https://github.com/ppy/osu/tree/2cac373365309a...   \n",
       "osu.Game.Overlays.NowPlayingOverlay                 https://github.com/ppy/osu/tree/2cac373365309a...   \n",
       "\n",
       "                                                     Code Smell  \\\n",
       "Code Snippet ID                                                   \n",
       "Aseprite.AsepriteAnimation                          Large Class   \n",
       "Aseprite.AsepriteCel                                Large Class   \n",
       "Aseprite.AsepriteFrame                              Large Class   \n",
       "Aseprite.AsepriteImporter                           Large Class   \n",
       "Aseprite.AsepriteLayer                              Large Class   \n",
       "...                                                         ...   \n",
       "osu.Game.Rulesets.Osu.Edit.Blueprints.Sliders.C...  Large Class   \n",
       "osu.Game.Overlays.Comments.CommentEditor            Large Class   \n",
       "osu.Game.Screens.Select.FilterQueryParser           Large Class   \n",
       "osu.Game.Rulesets.Osu.Statistics.AccuracyHeatmap    Large Class   \n",
       "osu.Game.Overlays.NowPlayingOverlay                 Large Class   \n",
       "\n",
       "                                                                                         Project Link  \\\n",
       "Code Snippet ID                                                                                         \n",
       "Aseprite.AsepriteAnimation                          https://github.com/egordorichev/BurningKnight/...   \n",
       "Aseprite.AsepriteCel                                https://github.com/egordorichev/BurningKnight/...   \n",
       "Aseprite.AsepriteFrame                              https://github.com/egordorichev/BurningKnight/...   \n",
       "Aseprite.AsepriteImporter                           https://github.com/egordorichev/BurningKnight/...   \n",
       "Aseprite.AsepriteLayer                              https://github.com/egordorichev/BurningKnight/...   \n",
       "...                                                                                               ...   \n",
       "osu.Game.Rulesets.Osu.Edit.Blueprints.Sliders.C...  https://github.com/ppy/osu/tree/2cac373365309a...   \n",
       "osu.Game.Overlays.Comments.CommentEditor            https://github.com/ppy/osu/tree/2cac373365309a...   \n",
       "osu.Game.Screens.Select.FilterQueryParser           https://github.com/ppy/osu/tree/2cac373365309a...   \n",
       "osu.Game.Rulesets.Osu.Statistics.AccuracyHeatmap    https://github.com/ppy/osu/tree/2cac373365309a...   \n",
       "osu.Game.Overlays.NowPlayingOverlay                 https://github.com/ppy/osu/tree/2cac373365309a...   \n",
       "\n",
       "                                                    CLOC  CELOC  NMD  NAD  \\\n",
       "Code Snippet ID                                                             \n",
       "Aseprite.AsepriteAnimation                             6      0    0    4   \n",
       "Aseprite.AsepriteCel                                  14      2    0    9   \n",
       "Aseprite.AsepriteFrame                                 9      1    0    2   \n",
       "Aseprite.AsepriteImporter                              6      1    1    0   \n",
       "Aseprite.AsepriteLayer                                51      2    0    9   \n",
       "...                                                  ...    ...  ...  ...   \n",
       "osu.Game.Rulesets.Osu.Edit.Blueprints.Sliders.C...   216    118    9    7   \n",
       "osu.Game.Overlays.Comments.CommentEditor             224     81    2    8   \n",
       "osu.Game.Screens.Select.FilterQueryParser            201    132   10    1   \n",
       "osu.Game.Rulesets.Osu.Statistics.AccuracyHeatmap     276    146    2    9   \n",
       "osu.Game.Overlays.NowPlayingOverlay                  399    201    9   20   \n",
       "\n",
       "                                                    NMD_NAD  WMC  WMC_NO_CASE  \\\n",
       "Code Snippet ID                                                                 \n",
       "Aseprite.AsepriteAnimation                                4    0            0   \n",
       "Aseprite.AsepriteCel                                      9    2            2   \n",
       "Aseprite.AsepriteFrame                                    2    1            1   \n",
       "Aseprite.AsepriteImporter                                 1    1            1   \n",
       "Aseprite.AsepriteLayer                                    9    2            2   \n",
       "...                                                     ...  ...          ...   \n",
       "osu.Game.Rulesets.Osu.Edit.Blueprints.Sliders.C...       16   37           36   \n",
       "osu.Game.Overlays.Comments.CommentEditor                 10    8            8   \n",
       "osu.Game.Screens.Select.FilterQueryParser                11   55           20   \n",
       "osu.Game.Rulesets.Osu.Statistics.AccuracyHeatmap         11   16           16   \n",
       "osu.Game.Overlays.NowPlayingOverlay                      29   26           25   \n",
       "\n",
       "                                                    ...  RFC  CBO  DIT  DCC  \\\n",
       "Code Snippet ID                                     ...                       \n",
       "Aseprite.AsepriteAnimation                          ...    0    0    0    0   \n",
       "Aseprite.AsepriteCel                                ...    0    1    0    1   \n",
       "Aseprite.AsepriteFrame                              ...    0    1    0    1   \n",
       "Aseprite.AsepriteImporter                           ...    0    1    0    1   \n",
       "Aseprite.AsepriteLayer                              ...    0    0    0    0   \n",
       "...                                                 ...  ...  ...  ...  ...   \n",
       "osu.Game.Rulesets.Osu.Edit.Blueprints.Sliders.C...  ...    2    5    0    5   \n",
       "osu.Game.Overlays.Comments.CommentEditor            ...    1    2    0    3   \n",
       "osu.Game.Screens.Select.FilterQueryParser           ...    7    0    0    0   \n",
       "osu.Game.Rulesets.Osu.Statistics.AccuracyHeatmap    ...    2    2    0    2   \n",
       "osu.Game.Overlays.NowPlayingOverlay                 ...    8    4    1    7   \n",
       "\n",
       "                                                    ATFD_10  NIC  \\\n",
       "Code Snippet ID                                                    \n",
       "Aseprite.AsepriteAnimation                                0    0   \n",
       "Aseprite.AsepriteCel                                      0    0   \n",
       "Aseprite.AsepriteFrame                                    0    0   \n",
       "Aseprite.AsepriteImporter                                 0    0   \n",
       "Aseprite.AsepriteLayer                                    0    0   \n",
       "...                                                     ...  ...   \n",
       "osu.Game.Rulesets.Osu.Edit.Blueprints.Sliders.C...        2    1   \n",
       "osu.Game.Overlays.Comments.CommentEditor                  1    2   \n",
       "osu.Game.Screens.Select.FilterQueryParser                10    0   \n",
       "osu.Game.Rulesets.Osu.Statistics.AccuracyHeatmap          1    1   \n",
       "osu.Game.Overlays.NowPlayingOverlay                       4    4   \n",
       "\n",
       "                                                    Final annotation  1  2  3  \n",
       "Code Snippet ID                                                                \n",
       "Aseprite.AsepriteAnimation                                         0  0  0  0  \n",
       "Aseprite.AsepriteCel                                               0  0  0  0  \n",
       "Aseprite.AsepriteFrame                                             0  0  0  0  \n",
       "Aseprite.AsepriteImporter                                          0  0  0  0  \n",
       "Aseprite.AsepriteLayer                                             0  0  0  0  \n",
       "...                                                              ... .. .. ..  \n",
       "osu.Game.Rulesets.Osu.Edit.Blueprints.Sliders.C...                 1  /  1  1  \n",
       "osu.Game.Overlays.Comments.CommentEditor                           1  /  1  1  \n",
       "osu.Game.Screens.Select.FilterQueryParser                          1  /  1  1  \n",
       "osu.Game.Rulesets.Osu.Statistics.AccuracyHeatmap                   1  /  1  1  \n",
       "osu.Game.Overlays.NowPlayingOverlay                                1  /  2  2  \n",
       "\n",
       "[920 rows x 32 columns]"
      ]
     },
     "execution_count": 111,
     "metadata": {},
     "output_type": "execute_result"
    }
   ],
   "source": [
    "df.set_index('Code Snippet ID')"
   ]
  },
  {
   "cell_type": "code",
   "execution_count": 112,
   "id": "67771b5b",
   "metadata": {},
   "outputs": [],
   "source": [
    "df_train, df_test, y_train, y_test = train_test_split(df, df['Final annotation'],stratify=df['Final annotation'], test_size=0.20, random_state=42)"
   ]
  },
  {
   "cell_type": "markdown",
   "id": "83301147",
   "metadata": {},
   "source": [
    "<h2>Data normalization</h2>"
   ]
  },
  {
   "cell_type": "code",
   "execution_count": 113,
   "id": "c0344bdb",
   "metadata": {},
   "outputs": [],
   "source": [
    "column_names = ['CLOC','CELOC','NMD','NAD','NMD_NAD','WMC','WMC_NO_CASE','LCOM','LCOM3','LCOM4','TCC','ATFD','CNOR','CNOL','CNOC','CNOA','NOPM','CMNB','RFC','CBO','DIT','DCC','ATFD_10','NIC','NOPF']\n",
    "features = df_train[column_names]\n",
    "\n",
    "\n",
    "column_transformator = ColumnTransformer([('name', StandardScaler(), column_names)], remainder='passthrough')\n",
    "\n",
    "scaled = column_transformator.fit(features)\n",
    "X_train = scaled.transform(features)\n",
    "\n",
    "test_features = df_test[column_names]\n",
    "\n",
    "X_test= scaled.transform(test_features)"
   ]
  },
  {
   "cell_type": "markdown",
   "id": "05ee52f6",
   "metadata": {},
   "source": [
    "<h2>Random forest classifier</h2>"
   ]
  },
  {
   "cell_type": "code",
   "execution_count": 114,
   "id": "2363afbf",
   "metadata": {},
   "outputs": [],
   "source": [
    "rf_classifier = RandomForestClassifier(n_estimators=314, random_state=42)\n",
    "\n",
    "rf_model = rf_classifier.fit(X_train,y_train)"
   ]
  },
  {
   "cell_type": "code",
   "execution_count": 115,
   "id": "46f5007a",
   "metadata": {},
   "outputs": [
    {
     "name": "stdout",
     "output_type": "stream",
     "text": [
      "Classification report: \n",
      "               precision    recall  f1-score   support\n",
      "\n",
      "           0       0.99      0.97      0.98       136\n",
      "           1       0.92      0.96      0.94        48\n",
      "\n",
      "    accuracy                           0.97       184\n",
      "   macro avg       0.95      0.96      0.96       184\n",
      "weighted avg       0.97      0.97      0.97       184\n",
      "\n"
     ]
    }
   ],
   "source": [
    "y_pred = rf_model.predict(X_test)\n",
    "\n",
    "print(\"Classification report: \\n\", metrics.classification_report(y_test, y_pred))"
   ]
  },
  {
   "cell_type": "code",
   "execution_count": 116,
   "id": "c5c767be",
   "metadata": {},
   "outputs": [],
   "source": [
    "def plot_feature_importance(importance,names,model_type):\n",
    "    #Create arrays from feature importance and feature names\n",
    "    feature_importance = np.array(importance)\n",
    "    feature_names = np.array(names)\n",
    "    #Create a DataFrame using a Dictionary\n",
    "    data={'feature_names':feature_names,'feature_importance':feature_importance}\n",
    "    fi_df = pd.DataFrame(data)\n",
    "    #Sort the DataFrame in order decreasing feature importance\n",
    "    fi_df.sort_values(by=['feature_importance'], ascending=False,inplace=True)\n",
    "    #Define size of bar plot\n",
    "    plt.figure(figsize=(12,12))\n",
    "    #Plot Searborn bar chart\n",
    "    sns.barplot(x=fi_df['feature_importance'], y=fi_df['feature_names'])\n",
    "    #Add chart labels\n",
    "    plt.title(model_type + 'FEATURE IMPORTANCE')\n",
    "    plt.xlabel('FEATURE IMPORTANCE')\n",
    "    plt.ylabel('FEATURE NAMES')\n",
    "    print(fi_df)"
   ]
  },
  {
   "cell_type": "code",
   "execution_count": 117,
   "id": "20ee2de2",
   "metadata": {},
   "outputs": [
    {
     "name": "stdout",
     "output_type": "stream",
     "text": [
      "   feature_names  feature_importance\n",
      "6    WMC_NO_CASE            0.185704\n",
      "0           CLOC            0.170383\n",
      "5            WMC            0.140365\n",
      "1          CELOC            0.100895\n",
      "4        NMD_NAD            0.081557\n",
      "14          CNOC            0.050827\n",
      "15          CNOA            0.039460\n",
      "18           RFC            0.033577\n",
      "21           DCC            0.022513\n",
      "11          ATFD            0.020689\n",
      "3            NAD            0.019905\n",
      "2            NMD            0.017932\n",
      "17          CMNB            0.017803\n",
      "8          LCOM3            0.012679\n",
      "23           NIC            0.012564\n",
      "7           LCOM            0.011474\n",
      "12          CNOR            0.010627\n",
      "22       ATFD_10            0.009908\n",
      "19           CBO            0.008692\n",
      "13          CNOL            0.007514\n",
      "10           TCC            0.007395\n",
      "16          NOPM            0.006407\n",
      "20           DIT            0.004427\n",
      "9          LCOM4            0.003701\n",
      "24          NOPF            0.003001\n"
     ]
    },
    {
     "data": {
      "image/png": "[encoded data removed]",
      "text/plain": [
       "<Figure size 864x864 with 1 Axes>"
      ]
     },
     "metadata": {
      "needs_background": "light"
     },
     "output_type": "display_data"
    }
   ],
   "source": [
    "rf_feature_importance = rf_classifier.feature_importances_\n",
    "plot_feature_importance(rf_feature_importance,column_names,'RandomForest classifier ')"
   ]
  },
  {
   "cell_type": "markdown",
   "id": "e0ce26cf",
   "metadata": {},
   "source": [
    "<h2>Catboost classifier</h2>"
   ]
  },
  {
   "cell_type": "code",
   "execution_count": 118,
   "id": "3cf1b267",
   "metadata": {},
   "outputs": [],
   "source": [
    "cat_model = CatBoostClassifier(iterations=100, learning_rate=0.1)\n",
    "\n",
    "cat_model.fit(X_train, y_train, verbose=False)\n",
    "\n",
    "y_predicted = cat_model.predict(X_test)"
   ]
  },
  {
   "cell_type": "code",
   "execution_count": 119,
   "id": "35be8488",
   "metadata": {},
   "outputs": [
    {
     "name": "stdout",
     "output_type": "stream",
     "text": [
      "              precision    recall  f1-score   support\n",
      "\n",
      "           0       0.99      0.98      0.98       136\n",
      "           1       0.94      0.96      0.95        48\n",
      "\n",
      "    accuracy                           0.97       184\n",
      "   macro avg       0.96      0.97      0.97       184\n",
      "weighted avg       0.97      0.97      0.97       184\n",
      "\n"
     ]
    }
   ],
   "source": [
    "print(classification_report(y_test,y_predicted))"
   ]
  },
  {
   "cell_type": "code",
   "execution_count": 120,
   "id": "7d2cdb2b",
   "metadata": {},
   "outputs": [
    {
     "name": "stdout",
     "output_type": "stream",
     "text": [
      "   feature_names  feature_importance\n",
      "0           CLOC           15.655360\n",
      "6    WMC_NO_CASE           11.874096\n",
      "4        NMD_NAD            8.866645\n",
      "5            WMC            8.292633\n",
      "1          CELOC            6.853965\n",
      "18           RFC            6.411579\n",
      "3            NAD            5.467422\n",
      "23           NIC            4.475642\n",
      "17          CMNB            3.932590\n",
      "21           DCC            3.404987\n",
      "11          ATFD            3.227028\n",
      "2            NMD            2.907196\n",
      "14          CNOC            2.830238\n",
      "7           LCOM            2.603517\n",
      "15          CNOA            2.167183\n",
      "10           TCC            1.936144\n",
      "8          LCOM3            1.862230\n",
      "19           CBO            1.849663\n",
      "22       ATFD_10            1.040226\n",
      "13          CNOL            1.023465\n",
      "16          NOPM            0.949628\n",
      "20           DIT            0.853761\n",
      "24          NOPF            0.793793\n",
      "12          CNOR            0.704649\n",
      "9          LCOM4            0.016359\n"
     ]
    },
    {
     "data": {
      "image/png": "[encoded data removed]",
      "text/plain": [
       "<Figure size 864x864 with 1 Axes>"
      ]
     },
     "metadata": {
      "needs_background": "light"
     },
     "output_type": "display_data"
    }
   ],
   "source": [
    "cat_feature_importance = cat_model.feature_importances_\n",
    "plot_feature_importance(cat_feature_importance,column_names,'CatBoost classifier')"
   ]
  },
  {
   "cell_type": "markdown",
   "id": "dec070fe",
   "metadata": {},
   "source": [
    "<h2>XGBoost classifier</h2>"
   ]
  },
  {
   "cell_type": "code",
   "execution_count": 121,
   "id": "a0ddebc0",
   "metadata": {},
   "outputs": [
    {
     "name": "stdout",
     "output_type": "stream",
     "text": [
      "[10:57:05] WARNING: C:\\Windows\\Temp\\abs_557yfx631l\\croots\\recipe\\xgboost-split_1659548953302\\work\\src\\learner.cc:1115: Starting in XGBoost 1.3.0, the default evaluation metric used with the objective 'binary:logistic' was changed from 'error' to 'logloss'. Explicitly set eval_metric if you'd like to restore the old behavior.\n"
     ]
    },
    {
     "name": "stderr",
     "output_type": "stream",
     "text": [
      "C:\\Users\\Mihajlo\\anaconda3\\envs\\diplomski\\lib\\site-packages\\xgboost\\sklearn.py:1224: UserWarning: The use of label encoder in XGBClassifier is deprecated and will be removed in a future release. To remove this warning, do the following: 1) Pass option use_label_encoder=False when constructing XGBClassifier object; and 2) Encode your labels (y) as integers starting with 0, i.e. 0, 1, 2, ..., [num_class - 1].\n",
      "  warnings.warn(label_encoder_deprecation_msg, UserWarning)\n"
     ]
    }
   ],
   "source": [
    "xgb_model = xgb.XGBClassifier()\n",
    "xgb_model.fit(X_train, y_train)\n",
    "y_predict = xgb_model.predict(X_test)"
   ]
  },
  {
   "cell_type": "code",
   "execution_count": 122,
   "id": "8daa7fb3",
   "metadata": {},
   "outputs": [
    {
     "name": "stdout",
     "output_type": "stream",
     "text": [
      "              precision    recall  f1-score   support\n",
      "\n",
      "           0       0.97      0.97      0.97       136\n",
      "           1       0.92      0.92      0.92        48\n",
      "\n",
      "    accuracy                           0.96       184\n",
      "   macro avg       0.94      0.94      0.94       184\n",
      "weighted avg       0.96      0.96      0.96       184\n",
      "\n"
     ]
    }
   ],
   "source": [
    "print(classification_report(y_test,y_predict))"
   ]
  },
  {
   "cell_type": "code",
   "execution_count": 123,
   "id": "0b7f2fbb",
   "metadata": {},
   "outputs": [
    {
     "name": "stdout",
     "output_type": "stream",
     "text": [
      "   feature_names  feature_importance\n",
      "6    WMC_NO_CASE            0.465387\n",
      "5            WMC            0.135231\n",
      "0           CLOC            0.052505\n",
      "20           DIT            0.039956\n",
      "23           NIC            0.029253\n",
      "4        NMD_NAD            0.026375\n",
      "22       ATFD_10            0.021365\n",
      "18           RFC            0.020546\n",
      "1          CELOC            0.020219\n",
      "17          CMNB            0.019639\n",
      "3            NAD            0.019471\n",
      "21           DCC            0.019303\n",
      "11          ATFD            0.018656\n",
      "24          NOPF            0.016635\n",
      "15          CNOA            0.013652\n",
      "14          CNOC            0.013207\n",
      "19           CBO            0.012855\n",
      "12          CNOR            0.012411\n",
      "13          CNOL            0.008168\n",
      "10           TCC            0.007042\n",
      "7           LCOM            0.006985\n",
      "2            NMD            0.006699\n",
      "8          LCOM3            0.005462\n",
      "9          LCOM4            0.005245\n",
      "16          NOPM            0.003733\n"
     ]
    },
    {
     "data": {
      "image/png": "[encoded data removed]",
      "text/plain": [
       "<Figure size 864x864 with 1 Axes>"
      ]
     },
     "metadata": {
      "needs_background": "light"
     },
     "output_type": "display_data"
    }
   ],
   "source": [
    "xgb_feature_importance = xgb_model.feature_importances_\n",
    "plot_feature_importance(xgb_feature_importance,column_names,'XGBoost classifier')"
   ]
  },
  {
   "cell_type": "markdown",
   "id": "90e4e3bc",
   "metadata": {},
   "source": [
    "<h2>Bagging classifier with linear svc as a base</h2>"
   ]
  },
  {
   "cell_type": "code",
   "execution_count": 124,
   "id": "d60f1fc4",
   "metadata": {},
   "outputs": [
    {
     "name": "stderr",
     "output_type": "stream",
     "text": [
      "C:\\Users\\Mihajlo\\anaconda3\\envs\\diplomski\\lib\\site-packages\\sklearn\\svm\\_base.py:1225: ConvergenceWarning: Liblinear failed to converge, increase the number of iterations.\n",
      "  warnings.warn(\n",
      "C:\\Users\\Mihajlo\\anaconda3\\envs\\diplomski\\lib\\site-packages\\sklearn\\svm\\_base.py:1225: ConvergenceWarning: Liblinear failed to converge, increase the number of iterations.\n",
      "  warnings.warn(\n",
      "C:\\Users\\Mihajlo\\anaconda3\\envs\\diplomski\\lib\\site-packages\\sklearn\\svm\\_base.py:1225: ConvergenceWarning: Liblinear failed to converge, increase the number of iterations.\n",
      "  warnings.warn(\n",
      "C:\\Users\\Mihajlo\\anaconda3\\envs\\diplomski\\lib\\site-packages\\sklearn\\svm\\_base.py:1225: ConvergenceWarning: Liblinear failed to converge, increase the number of iterations.\n",
      "  warnings.warn(\n",
      "C:\\Users\\Mihajlo\\anaconda3\\envs\\diplomski\\lib\\site-packages\\sklearn\\svm\\_base.py:1225: ConvergenceWarning: Liblinear failed to converge, increase the number of iterations.\n",
      "  warnings.warn(\n",
      "C:\\Users\\Mihajlo\\anaconda3\\envs\\diplomski\\lib\\site-packages\\sklearn\\svm\\_base.py:1225: ConvergenceWarning: Liblinear failed to converge, increase the number of iterations.\n",
      "  warnings.warn(\n"
     ]
    }
   ],
   "source": [
    "svm = LinearSVC(random_state=42, max_iter = 2000) #default je 1000 za max_iter, mozda treba vise\n",
    "bag_model = BaggingClassifier(base_estimator=svm, n_estimators=100, random_state=42)\n",
    "bag_model.fit(X_train, y_train)\n",
    "\n",
    "y_predicted = bag_model.predict(X_test)"
   ]
  },
  {
   "cell_type": "code",
   "execution_count": 125,
   "id": "31c00ee9",
   "metadata": {},
   "outputs": [
    {
     "name": "stdout",
     "output_type": "stream",
     "text": [
      "              precision    recall  f1-score   support\n",
      "\n",
      "           0       0.96      0.96      0.96       136\n",
      "           1       0.88      0.88      0.88        48\n",
      "\n",
      "    accuracy                           0.93       184\n",
      "   macro avg       0.92      0.92      0.92       184\n",
      "weighted avg       0.93      0.93      0.93       184\n",
      "\n"
     ]
    }
   ],
   "source": [
    "print(classification_report(y_test,y_predicted))"
   ]
  },
  {
   "cell_type": "code",
   "execution_count": 126,
   "id": "9583c64c",
   "metadata": {},
   "outputs": [
    {
     "data": {
      "text/plain": [
       "array([[ 0.7778441 ,  1.14600091,  0.38354096,  0.51849882,  0.54581549,\n",
       "         1.12907213, -0.97306578, -0.61027604,  0.51671039, -0.14768911,\n",
       "        -0.04298661, -0.10605327,  0.54311978, -0.21074038,  1.31368239,\n",
       "        -0.35944058, -0.18767391,  0.29406794,  0.99554678,  0.06151197,\n",
       "         0.10528413, -0.20243271,  0.34069275,  0.42003983,  0.51074789]])"
      ]
     },
     "execution_count": 126,
     "metadata": {},
     "output_type": "execute_result"
    }
   ],
   "source": [
    "bag_model.estimators_[0].coef_"
   ]
  },
  {
   "cell_type": "code",
   "execution_count": 127,
   "id": "f51c038f",
   "metadata": {},
   "outputs": [],
   "source": [
    "def f_importances(coef, names):\n",
    "    imp = coef\n",
    "    imp,names = zip(*sorted(zip(imp,names)))\n",
    "    plt.barh(range(len(names)), imp, align='center')\n",
    "    plt.yticks(range(len(names)), names)\n",
    "    plt.show()"
   ]
  },
  {
   "cell_type": "code",
   "execution_count": 128,
   "id": "416921ce",
   "metadata": {},
   "outputs": [
    {
     "data": {
      "text/plain": [
       "<AxesSubplot:>"
      ]
     },
     "execution_count": 128,
     "metadata": {},
     "output_type": "execute_result"
    },
    {
     "data": {
      "image/png": "[encoded data removed]",
      "text/plain": [
       "<Figure size 432x288 with 1 Axes>"
      ]
     },
     "metadata": {
      "needs_background": "light"
     },
     "output_type": "display_data"
    }
   ],
   "source": [
    "pd.Series(abs(bag_model.estimators_[0].coef_[0]), index=features.columns).nlargest(100).plot(kind='barh')"
   ]
  }
 ],
 "metadata": {
  "kernelspec": {
   "display_name": "Python 3 (ipykernel)",
   "language": "python",
   "name": "python3"
  },
  "language_info": {
   "codemirror_mode": {
    "name": "ipython",
    "version": 3
   },
   "file_extension": ".py",
   "mimetype": "text/x-python",
   "name": "python",
   "nbconvert_exporter": "python",
   "pygments_lexer": "ipython3",
   "version": "3.10.4"
  }
 },
 "nbformat": 4,
 "nbformat_minor": 5
}
